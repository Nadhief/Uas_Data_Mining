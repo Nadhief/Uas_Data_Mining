{
 "cells": [
  {
   "cell_type": "code",
   "execution_count": 1,
   "id": "4ab570f9",
   "metadata": {},
   "outputs": [],
   "source": [
    "%matplotlib inline\n",
    "import numpy as np\n",
    "import pandas as pd\n",
    "import matplotlib.pyplot as plt\n",
    "import seaborn as sns\n",
    "import pickle\n",
    "import xgboost as xgb\n",
    "import joblib\n",
    "import pickle\n",
    "from sklearn import preprocessing\n",
    "from sklearn.model_selection import train_test_split\n",
    "from sklearn.naive_bayes import GaussianNB\n",
    "from sklearn.metrics import classification_report\n",
    "from sklearn.metrics import accuracy_score\n",
    "from sklearn import tree\n",
    "from sklearn.ensemble import RandomForestClassifier\n",
    "from sklearn.metrics import confusion_matrix\n",
    "from sklearn.model_selection import cross_val_score\n",
    "from sklearn.metrics import make_scorer\n",
    "from sklearn.decomposition import PCA\n",
    "from sklearn.impute import SimpleImputer\n",
    "from sklearn.model_selection import GridSearchCV\n",
    "from sklearn import tree\n",
    "from sklearn.naive_bayes import GaussianNB\n",
    "from sklearn.metrics import classification_report\n",
    "from sklearn.metrics import accuracy_score"
   ]
  },
  {
   "cell_type": "code",
   "execution_count": 2,
   "id": "2b1adeb0",
   "metadata": {},
   "outputs": [],
   "source": [
    "df_test = pd.read_csv(\"C:\\\\Users\\\\raisy\\\\Downloads\\\\spaceship-titanic\\\\test.csv\")"
   ]
  },
  {
   "cell_type": "markdown",
   "id": "175e2e99",
   "metadata": {},
   "source": [
    "#### Menampilkan informasi dataset yang diantaranya Nama Column, Jumlah Data, dan Type Data masing masing kolom "
   ]
  },
  {
   "cell_type": "code",
   "execution_count": 3,
   "id": "b584b114",
   "metadata": {},
   "outputs": [
    {
     "name": "stdout",
     "output_type": "stream",
     "text": [
      "<class 'pandas.core.frame.DataFrame'>\n",
      "RangeIndex: 4277 entries, 0 to 4276\n",
      "Data columns (total 13 columns):\n",
      " #   Column        Non-Null Count  Dtype  \n",
      "---  ------        --------------  -----  \n",
      " 0   PassengerId   4277 non-null   object \n",
      " 1   HomePlanet    4190 non-null   object \n",
      " 2   CryoSleep     4184 non-null   object \n",
      " 3   Cabin         4177 non-null   object \n",
      " 4   Destination   4185 non-null   object \n",
      " 5   Age           4186 non-null   float64\n",
      " 6   VIP           4184 non-null   object \n",
      " 7   RoomService   4195 non-null   float64\n",
      " 8   FoodCourt     4171 non-null   float64\n",
      " 9   ShoppingMall  4179 non-null   float64\n",
      " 10  Spa           4176 non-null   float64\n",
      " 11  VRDeck        4197 non-null   float64\n",
      " 12  Name          4183 non-null   object \n",
      "dtypes: float64(6), object(7)\n",
      "memory usage: 434.5+ KB\n"
     ]
    }
   ],
   "source": [
    "df_test.info()"
   ]
  },
  {
   "cell_type": "markdown",
   "id": "904e2274",
   "metadata": {},
   "source": [
    "#### Menampilkan data null tiap kolom dari dataset"
   ]
  },
  {
   "cell_type": "code",
   "execution_count": 4,
   "id": "652bd3cf",
   "metadata": {},
   "outputs": [
    {
     "data": {
      "text/plain": [
       "PassengerId       0\n",
       "HomePlanet       87\n",
       "CryoSleep        93\n",
       "Cabin           100\n",
       "Destination      92\n",
       "Age              91\n",
       "VIP              93\n",
       "RoomService      82\n",
       "FoodCourt       106\n",
       "ShoppingMall     98\n",
       "Spa             101\n",
       "VRDeck           80\n",
       "Name             94\n",
       "dtype: int64"
      ]
     },
     "execution_count": 4,
     "metadata": {},
     "output_type": "execute_result"
    }
   ],
   "source": [
    "df_test.isna().sum()"
   ]
  },
  {
   "cell_type": "markdown",
   "id": "e53a93d4",
   "metadata": {},
   "source": [
    "#### Dapat dilihat dari informasi diatas, bahwa masih terdapat data null dari tiap kolomnya, maka dari itu data yang masih kosong/null harus dilakukan praproses terlebih dahulu dengan cara mengisi data sesuai dengan korelasi datanya. Data tidak didrop dikarenakan data yang null terlalu banyak dan jika dilakukan drop, maka dataset tidak seimbang atau tidak relevan"
   ]
  },
  {
   "cell_type": "code",
   "execution_count": 5,
   "id": "e688dbd6",
   "metadata": {},
   "outputs": [
    {
     "data": {
      "image/png": "[encoded data removed]",
      "text/plain": [
       "<Figure size 1000x400 with 1 Axes>"
      ]
     },
     "metadata": {
      "needs_background": "light"
     },
     "output_type": "display_data"
    }
   ],
   "source": [
    "plt.figure(figsize=(10, 4),dpi=100)\n",
    "sns.heatmap(df_test.isnull().transpose(), xticklabels=False, cbar=False, cmap='viridis')\n",
    "plt.title('Distribution of Missing Values among Variables', fontsize=20)\n",
    "plt.show()"
   ]
  },
  {
   "cell_type": "code",
   "execution_count": 6,
   "id": "53da50b8",
   "metadata": {},
   "outputs": [
    {
     "name": "stdout",
     "output_type": "stream",
     "text": [
      "HomePlanet 0.0203 % missing values\n",
      "CryoSleep 0.0217 % missing values\n",
      "Cabin 0.0234 % missing values\n",
      "Destination 0.0215 % missing values\n",
      "Age 0.0213 % missing values\n",
      "VIP 0.0217 % missing values\n",
      "RoomService 0.0192 % missing values\n",
      "FoodCourt 0.0248 % missing values\n",
      "ShoppingMall 0.0229 % missing values\n",
      "Spa 0.0236 % missing values\n",
      "VRDeck 0.0187 % missing values\n",
      "Name 0.022 % missing values\n"
     ]
    }
   ],
   "source": [
    "## Here we will check the percentage of nan values present in each feature\n",
    "## 1 -step make the list of features which has missing values\n",
    "features_with_nan=[features for features in df_test.columns if df_test[features].isnull().sum()>1]\n",
    "\n",
    "HP = []\n",
    "\n",
    "## 2- step print the feature name and the percentage of missing values\n",
    "for features in features_with_nan:\n",
    "    HP.append([np.round(df_test[features].isnull().mean(),4), features])\n",
    "    print(features,np.round(df_test[features].isnull().mean(),4),'% missing values')"
   ]
  },
  {
   "cell_type": "code",
   "execution_count": 7,
   "id": "454179df",
   "metadata": {},
   "outputs": [],
   "source": [
    "HP = pd.DataFrame(HP)"
   ]
  },
  {
   "cell_type": "code",
   "execution_count": 8,
   "id": "ca423225",
   "metadata": {},
   "outputs": [],
   "source": [
    "HP.rename(columns = {0:\"Missing_Values\"}, inplace = True)\n",
    "HP.rename(columns = {1:\"Column\"}, inplace = True)"
   ]
  },
  {
   "cell_type": "code",
   "execution_count": 9,
   "id": "0c350e9e",
   "metadata": {},
   "outputs": [
    {
     "data": {
      "text/html": [
       "<div>\n",
       "<style scoped>\n",
       "    .dataframe tbody tr th:only-of-type {\n",
       "        vertical-align: middle;\n",
       "    }\n",
       "\n",
       "    .dataframe tbody tr th {\n",
       "        vertical-align: top;\n",
       "    }\n",
       "\n",
       "    .dataframe thead th {\n",
       "        text-align: right;\n",
       "    }\n",
       "</style>\n",
       "<table border=\"1\" class=\"dataframe\">\n",
       "  <thead>\n",
       "    <tr style=\"text-align: right;\">\n",
       "      <th></th>\n",
       "      <th>Missing_Values</th>\n",
       "      <th>Column</th>\n",
       "    </tr>\n",
       "  </thead>\n",
       "  <tbody>\n",
       "    <tr>\n",
       "      <th>0</th>\n",
       "      <td>0.0203</td>\n",
       "      <td>HomePlanet</td>\n",
       "    </tr>\n",
       "    <tr>\n",
       "      <th>1</th>\n",
       "      <td>0.0217</td>\n",
       "      <td>CryoSleep</td>\n",
       "    </tr>\n",
       "    <tr>\n",
       "      <th>2</th>\n",
       "      <td>0.0234</td>\n",
       "      <td>Cabin</td>\n",
       "    </tr>\n",
       "    <tr>\n",
       "      <th>3</th>\n",
       "      <td>0.0215</td>\n",
       "      <td>Destination</td>\n",
       "    </tr>\n",
       "    <tr>\n",
       "      <th>4</th>\n",
       "      <td>0.0213</td>\n",
       "      <td>Age</td>\n",
       "    </tr>\n",
       "    <tr>\n",
       "      <th>5</th>\n",
       "      <td>0.0217</td>\n",
       "      <td>VIP</td>\n",
       "    </tr>\n",
       "    <tr>\n",
       "      <th>6</th>\n",
       "      <td>0.0192</td>\n",
       "      <td>RoomService</td>\n",
       "    </tr>\n",
       "    <tr>\n",
       "      <th>7</th>\n",
       "      <td>0.0248</td>\n",
       "      <td>FoodCourt</td>\n",
       "    </tr>\n",
       "    <tr>\n",
       "      <th>8</th>\n",
       "      <td>0.0229</td>\n",
       "      <td>ShoppingMall</td>\n",
       "    </tr>\n",
       "    <tr>\n",
       "      <th>9</th>\n",
       "      <td>0.0236</td>\n",
       "      <td>Spa</td>\n",
       "    </tr>\n",
       "    <tr>\n",
       "      <th>10</th>\n",
       "      <td>0.0187</td>\n",
       "      <td>VRDeck</td>\n",
       "    </tr>\n",
       "    <tr>\n",
       "      <th>11</th>\n",
       "      <td>0.0220</td>\n",
       "      <td>Name</td>\n",
       "    </tr>\n",
       "  </tbody>\n",
       "</table>\n",
       "</div>"
      ],
      "text/plain": [
       "    Missing_Values        Column\n",
       "0           0.0203    HomePlanet\n",
       "1           0.0217     CryoSleep\n",
       "2           0.0234         Cabin\n",
       "3           0.0215   Destination\n",
       "4           0.0213           Age\n",
       "5           0.0217           VIP\n",
       "6           0.0192   RoomService\n",
       "7           0.0248     FoodCourt\n",
       "8           0.0229  ShoppingMall\n",
       "9           0.0236           Spa\n",
       "10          0.0187        VRDeck\n",
       "11          0.0220          Name"
      ]
     },
     "execution_count": 9,
     "metadata": {},
     "output_type": "execute_result"
    }
   ],
   "source": [
    "HP"
   ]
  },
  {
   "cell_type": "code",
   "execution_count": 10,
   "id": "5e6fa98a",
   "metadata": {},
   "outputs": [
    {
     "data": {
      "text/html": [
       "<div>\n",
       "<style scoped>\n",
       "    .dataframe tbody tr th:only-of-type {\n",
       "        vertical-align: middle;\n",
       "    }\n",
       "\n",
       "    .dataframe tbody tr th {\n",
       "        vertical-align: top;\n",
       "    }\n",
       "\n",
       "    .dataframe thead th {\n",
       "        text-align: right;\n",
       "    }\n",
       "</style>\n",
       "<table border=\"1\" class=\"dataframe\">\n",
       "  <thead>\n",
       "    <tr style=\"text-align: right;\">\n",
       "      <th></th>\n",
       "      <th>PassengerId</th>\n",
       "      <th>HomePlanet</th>\n",
       "      <th>CryoSleep</th>\n",
       "      <th>Cabin</th>\n",
       "      <th>Destination</th>\n",
       "      <th>VIP</th>\n",
       "      <th>Name</th>\n",
       "    </tr>\n",
       "  </thead>\n",
       "  <tbody>\n",
       "    <tr>\n",
       "      <th>count</th>\n",
       "      <td>4277</td>\n",
       "      <td>4190</td>\n",
       "      <td>4184</td>\n",
       "      <td>4177</td>\n",
       "      <td>4185</td>\n",
       "      <td>4184</td>\n",
       "      <td>4183</td>\n",
       "    </tr>\n",
       "    <tr>\n",
       "      <th>unique</th>\n",
       "      <td>4277</td>\n",
       "      <td>3</td>\n",
       "      <td>2</td>\n",
       "      <td>3265</td>\n",
       "      <td>3</td>\n",
       "      <td>2</td>\n",
       "      <td>4176</td>\n",
       "    </tr>\n",
       "    <tr>\n",
       "      <th>top</th>\n",
       "      <td>0013_01</td>\n",
       "      <td>Earth</td>\n",
       "      <td>False</td>\n",
       "      <td>G/160/P</td>\n",
       "      <td>TRAPPIST-1e</td>\n",
       "      <td>False</td>\n",
       "      <td>Cints Erle</td>\n",
       "    </tr>\n",
       "    <tr>\n",
       "      <th>freq</th>\n",
       "      <td>1</td>\n",
       "      <td>2263</td>\n",
       "      <td>2640</td>\n",
       "      <td>8</td>\n",
       "      <td>2956</td>\n",
       "      <td>4110</td>\n",
       "      <td>2</td>\n",
       "    </tr>\n",
       "  </tbody>\n",
       "</table>\n",
       "</div>"
      ],
      "text/plain": [
       "       PassengerId HomePlanet CryoSleep    Cabin  Destination    VIP  \\\n",
       "count         4277       4190      4184     4177         4185   4184   \n",
       "unique        4277          3         2     3265            3      2   \n",
       "top        0013_01      Earth     False  G/160/P  TRAPPIST-1e  False   \n",
       "freq             1       2263      2640        8         2956   4110   \n",
       "\n",
       "              Name  \n",
       "count         4183  \n",
       "unique        4176  \n",
       "top     Cints Erle  \n",
       "freq             2  "
      ]
     },
     "execution_count": 10,
     "metadata": {},
     "output_type": "execute_result"
    }
   ],
   "source": [
    "df_test.describe(include=('object','bool'))"
   ]
  },
  {
   "cell_type": "code",
   "execution_count": 11,
   "id": "ff5d2632",
   "metadata": {},
   "outputs": [
    {
     "data": {
      "text/plain": [
       "<AxesSubplot:xlabel='Age'>"
      ]
     },
     "execution_count": 11,
     "metadata": {},
     "output_type": "execute_result"
    },
    {
     "data": {
      "image/png": "[encoded data removed]",
      "text/plain": [
       "<Figure size 432x288 with 1 Axes>"
      ]
     },
     "metadata": {
      "needs_background": "light"
     },
     "output_type": "display_data"
    }
   ],
   "source": [
    "sns.boxplot(x=\"Age\",data=df_test)"
   ]
  },
  {
   "cell_type": "code",
   "execution_count": 12,
   "id": "146a18ff",
   "metadata": {},
   "outputs": [
    {
     "name": "stdout",
     "output_type": "stream",
     "text": [
      "              Number_Missing       PCT\n",
      "PassengerId                0  0.000000\n",
      "HomePlanet                87  2.034136\n",
      "CryoSleep                 93  2.174421\n",
      "Cabin                    100  2.338087\n",
      "Destination               92  2.151040\n",
      "Age                       91  2.127660\n",
      "VIP                       93  2.174421\n",
      "RoomService               82  1.917232\n",
      "FoodCourt                106  2.478373\n",
      "ShoppingMall              98  2.291326\n",
      "Spa                      101  2.361468\n",
      "VRDeck                    80  1.870470\n",
      "Name                      94  2.197802\n"
     ]
    }
   ],
   "source": [
    "null_dat = pd.DataFrame()\n",
    "null_dat['Number_Missing'] = df_test.isna().sum()\n",
    "null_dat['PCT'] = null_dat['Number_Missing']/len(df_test)*100\n",
    "print(null_dat)"
   ]
  },
  {
   "cell_type": "code",
   "execution_count": 13,
   "id": "450576e1",
   "metadata": {},
   "outputs": [],
   "source": [
    "# plt.figure(figsize = (12,12))\n",
    "# features = ['PassengerId', 'Name', 'Age', 'Cabin']\n",
    "\n",
    "# corr_matrix = df_test[features].corr('spearman')\n",
    "# sns.heatmap(corr_matrix, \n",
    "#             annot = True, \n",
    "#             cmap = 'flare', \n",
    "#             mask = np.triu(np.ones_like(corr_matrix, dtype = bool)),  \n",
    "#             center = 0,\n",
    "#             square = True, \n",
    "#             linewidths = 0.1 )"
   ]
  },
  {
   "cell_type": "code",
   "execution_count": 14,
   "id": "8683ed78",
   "metadata": {},
   "outputs": [],
   "source": [
    "# fig, ax = plt.subplots(figsize=(20, 5)) #atur ukuran chart\n",
    "# sns.catplot(ax=ax, x=\"Column\", y='Missing_Values', data=HP)"
   ]
  },
  {
   "cell_type": "markdown",
   "id": "4867c587",
   "metadata": {},
   "source": [
    "##### Berartii yang nilainya mendekati 0 itu tidak ada korelasinya tetapi jika minus, artinya dia ada korelasi namun korelasinya negatif"
   ]
  },
  {
   "cell_type": "code",
   "execution_count": 15,
   "id": "5d562c81",
   "metadata": {},
   "outputs": [
    {
     "data": {
      "text/plain": [
       "<AxesSubplot:>"
      ]
     },
     "execution_count": 15,
     "metadata": {},
     "output_type": "execute_result"
    },
    {
     "data": {
      "image/png": "[encoded data removed]",
      "text/plain": [
       "<Figure size 720x720 with 2 Axes>"
      ]
     },
     "metadata": {
      "needs_background": "light"
     },
     "output_type": "display_data"
    }
   ],
   "source": [
    "fig, ax = plt.subplots(figsize = (10,10))\n",
    "sns.heatmap(df_test.corr(), annot = True, ax=ax)"
   ]
  },
  {
   "cell_type": "markdown",
   "id": "6e5c8398",
   "metadata": {},
   "source": [
    "##### Membuat Kolom baru untuk memisah group id dengan idnya, dengan cara memecah UnderScore ('_')"
   ]
  },
  {
   "cell_type": "code",
   "execution_count": 16,
   "id": "9a3b5af4",
   "metadata": {},
   "outputs": [],
   "source": [
    "df_test['PassenggerId_Split'] = df_test['PassengerId'].str.split('_', 1).str[0]"
   ]
  },
  {
   "cell_type": "code",
   "execution_count": 17,
   "id": "71898736",
   "metadata": {},
   "outputs": [
    {
     "data": {
      "text/html": [
       "<div>\n",
       "<style scoped>\n",
       "    .dataframe tbody tr th:only-of-type {\n",
       "        vertical-align: middle;\n",
       "    }\n",
       "\n",
       "    .dataframe tbody tr th {\n",
       "        vertical-align: top;\n",
       "    }\n",
       "\n",
       "    .dataframe thead th {\n",
       "        text-align: right;\n",
       "    }\n",
       "</style>\n",
       "<table border=\"1\" class=\"dataframe\">\n",
       "  <thead>\n",
       "    <tr style=\"text-align: right;\">\n",
       "      <th></th>\n",
       "      <th>PassengerId</th>\n",
       "      <th>HomePlanet</th>\n",
       "      <th>CryoSleep</th>\n",
       "      <th>Cabin</th>\n",
       "      <th>Destination</th>\n",
       "      <th>Age</th>\n",
       "      <th>VIP</th>\n",
       "      <th>RoomService</th>\n",
       "      <th>FoodCourt</th>\n",
       "      <th>ShoppingMall</th>\n",
       "      <th>Spa</th>\n",
       "      <th>VRDeck</th>\n",
       "      <th>Name</th>\n",
       "      <th>PassenggerId_Split</th>\n",
       "    </tr>\n",
       "  </thead>\n",
       "  <tbody>\n",
       "    <tr>\n",
       "      <th>0</th>\n",
       "      <td>0013_01</td>\n",
       "      <td>Earth</td>\n",
       "      <td>True</td>\n",
       "      <td>G/3/S</td>\n",
       "      <td>TRAPPIST-1e</td>\n",
       "      <td>27.0</td>\n",
       "      <td>False</td>\n",
       "      <td>0.0</td>\n",
       "      <td>0.0</td>\n",
       "      <td>0.0</td>\n",
       "      <td>0.0</td>\n",
       "      <td>0.0</td>\n",
       "      <td>Nelly Carsoning</td>\n",
       "      <td>0013</td>\n",
       "    </tr>\n",
       "    <tr>\n",
       "      <th>1</th>\n",
       "      <td>0018_01</td>\n",
       "      <td>Earth</td>\n",
       "      <td>False</td>\n",
       "      <td>F/4/S</td>\n",
       "      <td>TRAPPIST-1e</td>\n",
       "      <td>19.0</td>\n",
       "      <td>False</td>\n",
       "      <td>0.0</td>\n",
       "      <td>9.0</td>\n",
       "      <td>0.0</td>\n",
       "      <td>2823.0</td>\n",
       "      <td>0.0</td>\n",
       "      <td>Lerome Peckers</td>\n",
       "      <td>0018</td>\n",
       "    </tr>\n",
       "    <tr>\n",
       "      <th>2</th>\n",
       "      <td>0019_01</td>\n",
       "      <td>Europa</td>\n",
       "      <td>True</td>\n",
       "      <td>C/0/S</td>\n",
       "      <td>55 Cancri e</td>\n",
       "      <td>31.0</td>\n",
       "      <td>False</td>\n",
       "      <td>0.0</td>\n",
       "      <td>0.0</td>\n",
       "      <td>0.0</td>\n",
       "      <td>0.0</td>\n",
       "      <td>0.0</td>\n",
       "      <td>Sabih Unhearfus</td>\n",
       "      <td>0019</td>\n",
       "    </tr>\n",
       "    <tr>\n",
       "      <th>3</th>\n",
       "      <td>0021_01</td>\n",
       "      <td>Europa</td>\n",
       "      <td>False</td>\n",
       "      <td>C/1/S</td>\n",
       "      <td>TRAPPIST-1e</td>\n",
       "      <td>38.0</td>\n",
       "      <td>False</td>\n",
       "      <td>0.0</td>\n",
       "      <td>6652.0</td>\n",
       "      <td>0.0</td>\n",
       "      <td>181.0</td>\n",
       "      <td>585.0</td>\n",
       "      <td>Meratz Caltilter</td>\n",
       "      <td>0021</td>\n",
       "    </tr>\n",
       "    <tr>\n",
       "      <th>4</th>\n",
       "      <td>0023_01</td>\n",
       "      <td>Earth</td>\n",
       "      <td>False</td>\n",
       "      <td>F/5/S</td>\n",
       "      <td>TRAPPIST-1e</td>\n",
       "      <td>20.0</td>\n",
       "      <td>False</td>\n",
       "      <td>10.0</td>\n",
       "      <td>0.0</td>\n",
       "      <td>635.0</td>\n",
       "      <td>0.0</td>\n",
       "      <td>0.0</td>\n",
       "      <td>Brence Harperez</td>\n",
       "      <td>0023</td>\n",
       "    </tr>\n",
       "  </tbody>\n",
       "</table>\n",
       "</div>"
      ],
      "text/plain": [
       "  PassengerId HomePlanet CryoSleep  Cabin  Destination   Age    VIP  \\\n",
       "0     0013_01      Earth      True  G/3/S  TRAPPIST-1e  27.0  False   \n",
       "1     0018_01      Earth     False  F/4/S  TRAPPIST-1e  19.0  False   \n",
       "2     0019_01     Europa      True  C/0/S  55 Cancri e  31.0  False   \n",
       "3     0021_01     Europa     False  C/1/S  TRAPPIST-1e  38.0  False   \n",
       "4     0023_01      Earth     False  F/5/S  TRAPPIST-1e  20.0  False   \n",
       "\n",
       "   RoomService  FoodCourt  ShoppingMall     Spa  VRDeck              Name  \\\n",
       "0          0.0        0.0           0.0     0.0     0.0   Nelly Carsoning   \n",
       "1          0.0        9.0           0.0  2823.0     0.0    Lerome Peckers   \n",
       "2          0.0        0.0           0.0     0.0     0.0   Sabih Unhearfus   \n",
       "3          0.0     6652.0           0.0   181.0   585.0  Meratz Caltilter   \n",
       "4         10.0        0.0         635.0     0.0     0.0   Brence Harperez   \n",
       "\n",
       "  PassenggerId_Split  \n",
       "0               0013  \n",
       "1               0018  \n",
       "2               0019  \n",
       "3               0021  \n",
       "4               0023  "
      ]
     },
     "execution_count": 17,
     "metadata": {},
     "output_type": "execute_result"
    }
   ],
   "source": [
    "df_test.head(5)"
   ]
  },
  {
   "cell_type": "code",
   "execution_count": 18,
   "id": "5f0f002f",
   "metadata": {},
   "outputs": [],
   "source": [
    "# df_test['PassenggerId_Split'] = df_test['PassenggerId_Split'].astype('Int64')"
   ]
  },
  {
   "cell_type": "code",
   "execution_count": 19,
   "id": "6bc68a62",
   "metadata": {},
   "outputs": [],
   "source": [
    "# df_test['Transported'].replace({False:0,True:1}, inplace=True)"
   ]
  },
  {
   "cell_type": "code",
   "execution_count": 20,
   "id": "d8dfa922",
   "metadata": {},
   "outputs": [
    {
     "name": "stdout",
     "output_type": "stream",
     "text": [
      "<class 'pandas.core.frame.DataFrame'>\n",
      "RangeIndex: 4277 entries, 0 to 4276\n",
      "Data columns (total 14 columns):\n",
      " #   Column              Non-Null Count  Dtype  \n",
      "---  ------              --------------  -----  \n",
      " 0   PassengerId         4277 non-null   object \n",
      " 1   HomePlanet          4190 non-null   object \n",
      " 2   CryoSleep           4184 non-null   object \n",
      " 3   Cabin               4177 non-null   object \n",
      " 4   Destination         4185 non-null   object \n",
      " 5   Age                 4186 non-null   float64\n",
      " 6   VIP                 4184 non-null   object \n",
      " 7   RoomService         4195 non-null   float64\n",
      " 8   FoodCourt           4171 non-null   float64\n",
      " 9   ShoppingMall        4179 non-null   float64\n",
      " 10  Spa                 4176 non-null   float64\n",
      " 11  VRDeck              4197 non-null   float64\n",
      " 12  Name                4183 non-null   object \n",
      " 13  PassenggerId_Split  4277 non-null   object \n",
      "dtypes: float64(6), object(8)\n",
      "memory usage: 467.9+ KB\n"
     ]
    }
   ],
   "source": [
    "df_test.info()"
   ]
  },
  {
   "cell_type": "code",
   "execution_count": 21,
   "id": "de8bd412",
   "metadata": {},
   "outputs": [],
   "source": [
    "# df_test['CryoSleep'] = df_test['CryoSleep'].astype('bool')\n",
    "# df_test['VIP'] = df_test['VIP'].astype('bool')"
   ]
  },
  {
   "cell_type": "code",
   "execution_count": 22,
   "id": "6cbad434",
   "metadata": {},
   "outputs": [],
   "source": [
    "# Explode sentences, from kolom\n",
    "df_test[['Deck', 'Number','Side']] = df_test['Cabin'].str.split('/', expand=True)"
   ]
  },
  {
   "cell_type": "code",
   "execution_count": 23,
   "id": "55230d3a",
   "metadata": {},
   "outputs": [],
   "source": [
    "# Drop Kolom\n",
    "df_test = df_test.drop([\"Cabin\"], axis=1)\n",
    "df_test = df_test.drop([\"Name\"], axis=1)\n",
    "\n",
    "# Set PassengerId menjadi indeks\n",
    "# df_test.set_index('PassengerId', inplace=True)"
   ]
  },
  {
   "cell_type": "code",
   "execution_count": 24,
   "id": "ff071f45",
   "metadata": {},
   "outputs": [],
   "source": [
    "for col in df_test[['CryoSleep', 'VIP', 'HomePlanet', 'Destination', 'Deck', 'Number','Side']]:\n",
    "    imp_freq = SimpleImputer(missing_values=np.nan, strategy='most_frequent')\n",
    "    imp_freq.fit(df_test[[col]])\n",
    "    df_test[col] = imp_freq.fit_transform(df_test[[col]])"
   ]
  },
  {
   "cell_type": "code",
   "execution_count": 25,
   "id": "9f3be967",
   "metadata": {},
   "outputs": [],
   "source": [
    "for col in df_test[['Age','RoomService', 'FoodCourt', 'ShoppingMall', 'Spa','VRDeck']]:\n",
    "    imp_med = SimpleImputer(missing_values=np.nan, strategy='median')\n",
    "    imp_med.fit(df_test[[col]])\n",
    "    df_test[col] = imp_med.fit_transform(df_test[[col]])"
   ]
  },
  {
   "cell_type": "code",
   "execution_count": 26,
   "id": "9ae7758d",
   "metadata": {},
   "outputs": [],
   "source": [
    "# Pengelompokkan umur\n",
    "cat_1 = pd.cut(x=df_test.Age.astype(float),bins=[0,2,18,65,125],labels=['Infant','Child/Teen','Adult','Senior'])"
   ]
  },
  {
   "cell_type": "code",
   "execution_count": 27,
   "id": "8954c9d9",
   "metadata": {},
   "outputs": [],
   "source": [
    "df_test.insert(15,'Age_Group', cat_1)"
   ]
  },
  {
   "cell_type": "code",
   "execution_count": 28,
   "id": "57fcfc54",
   "metadata": {},
   "outputs": [
    {
     "data": {
      "text/plain": [
       "0    Adult\n",
       "1    Adult\n",
       "2    Adult\n",
       "3    Adult\n",
       "4    Adult\n",
       "Name: Age, dtype: category\n",
       "Categories (4, object): ['Infant' < 'Child/Teen' < 'Adult' < 'Senior']"
      ]
     },
     "execution_count": 28,
     "metadata": {},
     "output_type": "execute_result"
    }
   ],
   "source": [
    "cat_1.head(5)"
   ]
  },
  {
   "cell_type": "code",
   "execution_count": 29,
   "id": "137641cb",
   "metadata": {},
   "outputs": [],
   "source": [
    "df_test[\"Age_Group\"] = df_test['Age_Group'].fillna(df_test['Age_Group'].mode()[0],inplace=False)"
   ]
  },
  {
   "cell_type": "code",
   "execution_count": 30,
   "id": "1fdd5906",
   "metadata": {},
   "outputs": [
    {
     "data": {
      "text/plain": [
       "PassengerId           0\n",
       "HomePlanet            0\n",
       "CryoSleep             0\n",
       "Destination           0\n",
       "Age                   0\n",
       "VIP                   0\n",
       "RoomService           0\n",
       "FoodCourt             0\n",
       "ShoppingMall          0\n",
       "Spa                   0\n",
       "VRDeck                0\n",
       "PassenggerId_Split    0\n",
       "Deck                  0\n",
       "Number                0\n",
       "Side                  0\n",
       "Age_Group             0\n",
       "dtype: int64"
      ]
     },
     "execution_count": 30,
     "metadata": {},
     "output_type": "execute_result"
    }
   ],
   "source": [
    "df_test.isna().sum()"
   ]
  },
  {
   "cell_type": "code",
   "execution_count": 31,
   "id": "28b2c7e6",
   "metadata": {},
   "outputs": [
    {
     "data": {
      "text/html": [
       "<div>\n",
       "<style scoped>\n",
       "    .dataframe tbody tr th:only-of-type {\n",
       "        vertical-align: middle;\n",
       "    }\n",
       "\n",
       "    .dataframe tbody tr th {\n",
       "        vertical-align: top;\n",
       "    }\n",
       "\n",
       "    .dataframe thead th {\n",
       "        text-align: right;\n",
       "    }\n",
       "</style>\n",
       "<table border=\"1\" class=\"dataframe\">\n",
       "  <thead>\n",
       "    <tr style=\"text-align: right;\">\n",
       "      <th></th>\n",
       "      <th>PassengerId</th>\n",
       "      <th>HomePlanet</th>\n",
       "      <th>CryoSleep</th>\n",
       "      <th>Destination</th>\n",
       "      <th>Age</th>\n",
       "      <th>VIP</th>\n",
       "      <th>RoomService</th>\n",
       "      <th>FoodCourt</th>\n",
       "      <th>ShoppingMall</th>\n",
       "      <th>Spa</th>\n",
       "      <th>VRDeck</th>\n",
       "      <th>PassenggerId_Split</th>\n",
       "      <th>Deck</th>\n",
       "      <th>Number</th>\n",
       "      <th>Side</th>\n",
       "      <th>Age_Group</th>\n",
       "    </tr>\n",
       "  </thead>\n",
       "  <tbody>\n",
       "    <tr>\n",
       "      <th>0</th>\n",
       "      <td>0013_01</td>\n",
       "      <td>Earth</td>\n",
       "      <td>True</td>\n",
       "      <td>TRAPPIST-1e</td>\n",
       "      <td>27.0</td>\n",
       "      <td>False</td>\n",
       "      <td>0.0</td>\n",
       "      <td>0.0</td>\n",
       "      <td>0.0</td>\n",
       "      <td>0.0</td>\n",
       "      <td>0.0</td>\n",
       "      <td>0013</td>\n",
       "      <td>G</td>\n",
       "      <td>3</td>\n",
       "      <td>S</td>\n",
       "      <td>Adult</td>\n",
       "    </tr>\n",
       "    <tr>\n",
       "      <th>1</th>\n",
       "      <td>0018_01</td>\n",
       "      <td>Earth</td>\n",
       "      <td>False</td>\n",
       "      <td>TRAPPIST-1e</td>\n",
       "      <td>19.0</td>\n",
       "      <td>False</td>\n",
       "      <td>0.0</td>\n",
       "      <td>9.0</td>\n",
       "      <td>0.0</td>\n",
       "      <td>2823.0</td>\n",
       "      <td>0.0</td>\n",
       "      <td>0018</td>\n",
       "      <td>F</td>\n",
       "      <td>4</td>\n",
       "      <td>S</td>\n",
       "      <td>Adult</td>\n",
       "    </tr>\n",
       "    <tr>\n",
       "      <th>2</th>\n",
       "      <td>0019_01</td>\n",
       "      <td>Europa</td>\n",
       "      <td>True</td>\n",
       "      <td>55 Cancri e</td>\n",
       "      <td>31.0</td>\n",
       "      <td>False</td>\n",
       "      <td>0.0</td>\n",
       "      <td>0.0</td>\n",
       "      <td>0.0</td>\n",
       "      <td>0.0</td>\n",
       "      <td>0.0</td>\n",
       "      <td>0019</td>\n",
       "      <td>C</td>\n",
       "      <td>0</td>\n",
       "      <td>S</td>\n",
       "      <td>Adult</td>\n",
       "    </tr>\n",
       "    <tr>\n",
       "      <th>3</th>\n",
       "      <td>0021_01</td>\n",
       "      <td>Europa</td>\n",
       "      <td>False</td>\n",
       "      <td>TRAPPIST-1e</td>\n",
       "      <td>38.0</td>\n",
       "      <td>False</td>\n",
       "      <td>0.0</td>\n",
       "      <td>6652.0</td>\n",
       "      <td>0.0</td>\n",
       "      <td>181.0</td>\n",
       "      <td>585.0</td>\n",
       "      <td>0021</td>\n",
       "      <td>C</td>\n",
       "      <td>1</td>\n",
       "      <td>S</td>\n",
       "      <td>Adult</td>\n",
       "    </tr>\n",
       "    <tr>\n",
       "      <th>4</th>\n",
       "      <td>0023_01</td>\n",
       "      <td>Earth</td>\n",
       "      <td>False</td>\n",
       "      <td>TRAPPIST-1e</td>\n",
       "      <td>20.0</td>\n",
       "      <td>False</td>\n",
       "      <td>10.0</td>\n",
       "      <td>0.0</td>\n",
       "      <td>635.0</td>\n",
       "      <td>0.0</td>\n",
       "      <td>0.0</td>\n",
       "      <td>0023</td>\n",
       "      <td>F</td>\n",
       "      <td>5</td>\n",
       "      <td>S</td>\n",
       "      <td>Adult</td>\n",
       "    </tr>\n",
       "  </tbody>\n",
       "</table>\n",
       "</div>"
      ],
      "text/plain": [
       "  PassengerId HomePlanet CryoSleep  Destination   Age    VIP  RoomService  \\\n",
       "0     0013_01      Earth      True  TRAPPIST-1e  27.0  False          0.0   \n",
       "1     0018_01      Earth     False  TRAPPIST-1e  19.0  False          0.0   \n",
       "2     0019_01     Europa      True  55 Cancri e  31.0  False          0.0   \n",
       "3     0021_01     Europa     False  TRAPPIST-1e  38.0  False          0.0   \n",
       "4     0023_01      Earth     False  TRAPPIST-1e  20.0  False         10.0   \n",
       "\n",
       "   FoodCourt  ShoppingMall     Spa  VRDeck PassenggerId_Split Deck Number  \\\n",
       "0        0.0           0.0     0.0     0.0               0013    G      3   \n",
       "1        9.0           0.0  2823.0     0.0               0018    F      4   \n",
       "2        0.0           0.0     0.0     0.0               0019    C      0   \n",
       "3     6652.0           0.0   181.0   585.0               0021    C      1   \n",
       "4        0.0         635.0     0.0     0.0               0023    F      5   \n",
       "\n",
       "  Side Age_Group  \n",
       "0    S     Adult  \n",
       "1    S     Adult  \n",
       "2    S     Adult  \n",
       "3    S     Adult  \n",
       "4    S     Adult  "
      ]
     },
     "execution_count": 31,
     "metadata": {},
     "output_type": "execute_result"
    }
   ],
   "source": [
    "df_test.head(5)"
   ]
  },
  {
   "cell_type": "code",
   "execution_count": 32,
   "id": "29588ad9",
   "metadata": {},
   "outputs": [],
   "source": [
    "df_test['Total_Bill'] = df_test['RoomService'] + df_test['FoodCourt'] + df_test['Spa']\\\n",
    "                        + df_test['VRDeck'] + df_test['ShoppingMall']"
   ]
  },
  {
   "cell_type": "code",
   "execution_count": 33,
   "id": "54ebace8",
   "metadata": {},
   "outputs": [
    {
     "data": {
      "text/html": [
       "<div>\n",
       "<style scoped>\n",
       "    .dataframe tbody tr th:only-of-type {\n",
       "        vertical-align: middle;\n",
       "    }\n",
       "\n",
       "    .dataframe tbody tr th {\n",
       "        vertical-align: top;\n",
       "    }\n",
       "\n",
       "    .dataframe thead th {\n",
       "        text-align: right;\n",
       "    }\n",
       "</style>\n",
       "<table border=\"1\" class=\"dataframe\">\n",
       "  <thead>\n",
       "    <tr style=\"text-align: right;\">\n",
       "      <th></th>\n",
       "      <th>PassengerId</th>\n",
       "      <th>HomePlanet</th>\n",
       "      <th>CryoSleep</th>\n",
       "      <th>Destination</th>\n",
       "      <th>Age</th>\n",
       "      <th>VIP</th>\n",
       "      <th>RoomService</th>\n",
       "      <th>FoodCourt</th>\n",
       "      <th>ShoppingMall</th>\n",
       "      <th>Spa</th>\n",
       "      <th>VRDeck</th>\n",
       "      <th>PassenggerId_Split</th>\n",
       "      <th>Deck</th>\n",
       "      <th>Number</th>\n",
       "      <th>Side</th>\n",
       "      <th>Age_Group</th>\n",
       "      <th>Total_Bill</th>\n",
       "    </tr>\n",
       "  </thead>\n",
       "  <tbody>\n",
       "    <tr>\n",
       "      <th>0</th>\n",
       "      <td>0013_01</td>\n",
       "      <td>Earth</td>\n",
       "      <td>True</td>\n",
       "      <td>TRAPPIST-1e</td>\n",
       "      <td>27.0</td>\n",
       "      <td>False</td>\n",
       "      <td>0.0</td>\n",
       "      <td>0.0</td>\n",
       "      <td>0.0</td>\n",
       "      <td>0.0</td>\n",
       "      <td>0.0</td>\n",
       "      <td>0013</td>\n",
       "      <td>G</td>\n",
       "      <td>3</td>\n",
       "      <td>S</td>\n",
       "      <td>Adult</td>\n",
       "      <td>0.0</td>\n",
       "    </tr>\n",
       "    <tr>\n",
       "      <th>1</th>\n",
       "      <td>0018_01</td>\n",
       "      <td>Earth</td>\n",
       "      <td>False</td>\n",
       "      <td>TRAPPIST-1e</td>\n",
       "      <td>19.0</td>\n",
       "      <td>False</td>\n",
       "      <td>0.0</td>\n",
       "      <td>9.0</td>\n",
       "      <td>0.0</td>\n",
       "      <td>2823.0</td>\n",
       "      <td>0.0</td>\n",
       "      <td>0018</td>\n",
       "      <td>F</td>\n",
       "      <td>4</td>\n",
       "      <td>S</td>\n",
       "      <td>Adult</td>\n",
       "      <td>2832.0</td>\n",
       "    </tr>\n",
       "    <tr>\n",
       "      <th>2</th>\n",
       "      <td>0019_01</td>\n",
       "      <td>Europa</td>\n",
       "      <td>True</td>\n",
       "      <td>55 Cancri e</td>\n",
       "      <td>31.0</td>\n",
       "      <td>False</td>\n",
       "      <td>0.0</td>\n",
       "      <td>0.0</td>\n",
       "      <td>0.0</td>\n",
       "      <td>0.0</td>\n",
       "      <td>0.0</td>\n",
       "      <td>0019</td>\n",
       "      <td>C</td>\n",
       "      <td>0</td>\n",
       "      <td>S</td>\n",
       "      <td>Adult</td>\n",
       "      <td>0.0</td>\n",
       "    </tr>\n",
       "    <tr>\n",
       "      <th>3</th>\n",
       "      <td>0021_01</td>\n",
       "      <td>Europa</td>\n",
       "      <td>False</td>\n",
       "      <td>TRAPPIST-1e</td>\n",
       "      <td>38.0</td>\n",
       "      <td>False</td>\n",
       "      <td>0.0</td>\n",
       "      <td>6652.0</td>\n",
       "      <td>0.0</td>\n",
       "      <td>181.0</td>\n",
       "      <td>585.0</td>\n",
       "      <td>0021</td>\n",
       "      <td>C</td>\n",
       "      <td>1</td>\n",
       "      <td>S</td>\n",
       "      <td>Adult</td>\n",
       "      <td>7418.0</td>\n",
       "    </tr>\n",
       "    <tr>\n",
       "      <th>4</th>\n",
       "      <td>0023_01</td>\n",
       "      <td>Earth</td>\n",
       "      <td>False</td>\n",
       "      <td>TRAPPIST-1e</td>\n",
       "      <td>20.0</td>\n",
       "      <td>False</td>\n",
       "      <td>10.0</td>\n",
       "      <td>0.0</td>\n",
       "      <td>635.0</td>\n",
       "      <td>0.0</td>\n",
       "      <td>0.0</td>\n",
       "      <td>0023</td>\n",
       "      <td>F</td>\n",
       "      <td>5</td>\n",
       "      <td>S</td>\n",
       "      <td>Adult</td>\n",
       "      <td>645.0</td>\n",
       "    </tr>\n",
       "  </tbody>\n",
       "</table>\n",
       "</div>"
      ],
      "text/plain": [
       "  PassengerId HomePlanet CryoSleep  Destination   Age    VIP  RoomService  \\\n",
       "0     0013_01      Earth      True  TRAPPIST-1e  27.0  False          0.0   \n",
       "1     0018_01      Earth     False  TRAPPIST-1e  19.0  False          0.0   \n",
       "2     0019_01     Europa      True  55 Cancri e  31.0  False          0.0   \n",
       "3     0021_01     Europa     False  TRAPPIST-1e  38.0  False          0.0   \n",
       "4     0023_01      Earth     False  TRAPPIST-1e  20.0  False         10.0   \n",
       "\n",
       "   FoodCourt  ShoppingMall     Spa  VRDeck PassenggerId_Split Deck Number  \\\n",
       "0        0.0           0.0     0.0     0.0               0013    G      3   \n",
       "1        9.0           0.0  2823.0     0.0               0018    F      4   \n",
       "2        0.0           0.0     0.0     0.0               0019    C      0   \n",
       "3     6652.0           0.0   181.0   585.0               0021    C      1   \n",
       "4        0.0         635.0     0.0     0.0               0023    F      5   \n",
       "\n",
       "  Side Age_Group  Total_Bill  \n",
       "0    S     Adult         0.0  \n",
       "1    S     Adult      2832.0  \n",
       "2    S     Adult         0.0  \n",
       "3    S     Adult      7418.0  \n",
       "4    S     Adult       645.0  "
      ]
     },
     "execution_count": 33,
     "metadata": {},
     "output_type": "execute_result"
    }
   ],
   "source": [
    "df_test.head(5)"
   ]
  },
  {
   "cell_type": "code",
   "execution_count": 34,
   "id": "1e3cb2bb",
   "metadata": {},
   "outputs": [],
   "source": [
    "df_test['Number'] = df_test['Number'].astype('Int64')\n",
    "df_test['VIP'] = df_test['VIP'].astype('bool')\n",
    "df_test['PassenggerId_Split'] = df_test['PassenggerId_Split'].astype('Int64')\n",
    "df_test['CryoSleep'] = df_test['CryoSleep'].astype('bool')\n",
    "\n",
    "df_test['Side'] = df_test['Side'].astype('category')\n",
    "df_test['HomePlanet'] = df_test['HomePlanet'].astype('category')\n",
    "df_test['Destination'] = df_test['Destination'].astype('category')\n",
    "df_test['Deck'] = df_test['Deck'].astype('category')\n",
    "df_test['PassengerId'] = df_test['PassengerId'].astype('int64')"
   ]
  },
  {
   "cell_type": "code",
   "execution_count": 35,
   "id": "1e8c17ef",
   "metadata": {},
   "outputs": [],
   "source": [
    "cat_2 = pd.cut(x=df_test.Total_Bill.astype(float),bins=[-1,0,2500,5000,100000],\n",
    "                                labels=['Miskin','Miskin_Menengah',\n",
    "                                'Menengah','Kaya_Bang'])\n",
    "\n",
    "df_test.insert(16,'Spending_Type', cat_2)"
   ]
  },
  {
   "cell_type": "code",
   "execution_count": 36,
   "id": "14c8778a",
   "metadata": {},
   "outputs": [
    {
     "data": {
      "text/html": [
       "<div>\n",
       "<style scoped>\n",
       "    .dataframe tbody tr th:only-of-type {\n",
       "        vertical-align: middle;\n",
       "    }\n",
       "\n",
       "    .dataframe tbody tr th {\n",
       "        vertical-align: top;\n",
       "    }\n",
       "\n",
       "    .dataframe thead th {\n",
       "        text-align: right;\n",
       "    }\n",
       "</style>\n",
       "<table border=\"1\" class=\"dataframe\">\n",
       "  <thead>\n",
       "    <tr style=\"text-align: right;\">\n",
       "      <th></th>\n",
       "      <th>PassengerId</th>\n",
       "      <th>HomePlanet</th>\n",
       "      <th>CryoSleep</th>\n",
       "      <th>Destination</th>\n",
       "      <th>Age</th>\n",
       "      <th>VIP</th>\n",
       "      <th>RoomService</th>\n",
       "      <th>FoodCourt</th>\n",
       "      <th>ShoppingMall</th>\n",
       "      <th>Spa</th>\n",
       "      <th>VRDeck</th>\n",
       "      <th>PassenggerId_Split</th>\n",
       "      <th>Deck</th>\n",
       "      <th>Number</th>\n",
       "      <th>Side</th>\n",
       "      <th>Age_Group</th>\n",
       "      <th>Spending_Type</th>\n",
       "      <th>Total_Bill</th>\n",
       "    </tr>\n",
       "  </thead>\n",
       "  <tbody>\n",
       "    <tr>\n",
       "      <th>0</th>\n",
       "      <td>1301</td>\n",
       "      <td>Earth</td>\n",
       "      <td>True</td>\n",
       "      <td>TRAPPIST-1e</td>\n",
       "      <td>27.0</td>\n",
       "      <td>False</td>\n",
       "      <td>0.0</td>\n",
       "      <td>0.0</td>\n",
       "      <td>0.0</td>\n",
       "      <td>0.0</td>\n",
       "      <td>0.0</td>\n",
       "      <td>13</td>\n",
       "      <td>G</td>\n",
       "      <td>3</td>\n",
       "      <td>S</td>\n",
       "      <td>Adult</td>\n",
       "      <td>Miskin</td>\n",
       "      <td>0.0</td>\n",
       "    </tr>\n",
       "    <tr>\n",
       "      <th>1</th>\n",
       "      <td>1801</td>\n",
       "      <td>Earth</td>\n",
       "      <td>False</td>\n",
       "      <td>TRAPPIST-1e</td>\n",
       "      <td>19.0</td>\n",
       "      <td>False</td>\n",
       "      <td>0.0</td>\n",
       "      <td>9.0</td>\n",
       "      <td>0.0</td>\n",
       "      <td>2823.0</td>\n",
       "      <td>0.0</td>\n",
       "      <td>18</td>\n",
       "      <td>F</td>\n",
       "      <td>4</td>\n",
       "      <td>S</td>\n",
       "      <td>Adult</td>\n",
       "      <td>Menengah</td>\n",
       "      <td>2832.0</td>\n",
       "    </tr>\n",
       "    <tr>\n",
       "      <th>2</th>\n",
       "      <td>1901</td>\n",
       "      <td>Europa</td>\n",
       "      <td>True</td>\n",
       "      <td>55 Cancri e</td>\n",
       "      <td>31.0</td>\n",
       "      <td>False</td>\n",
       "      <td>0.0</td>\n",
       "      <td>0.0</td>\n",
       "      <td>0.0</td>\n",
       "      <td>0.0</td>\n",
       "      <td>0.0</td>\n",
       "      <td>19</td>\n",
       "      <td>C</td>\n",
       "      <td>0</td>\n",
       "      <td>S</td>\n",
       "      <td>Adult</td>\n",
       "      <td>Miskin</td>\n",
       "      <td>0.0</td>\n",
       "    </tr>\n",
       "    <tr>\n",
       "      <th>3</th>\n",
       "      <td>2101</td>\n",
       "      <td>Europa</td>\n",
       "      <td>False</td>\n",
       "      <td>TRAPPIST-1e</td>\n",
       "      <td>38.0</td>\n",
       "      <td>False</td>\n",
       "      <td>0.0</td>\n",
       "      <td>6652.0</td>\n",
       "      <td>0.0</td>\n",
       "      <td>181.0</td>\n",
       "      <td>585.0</td>\n",
       "      <td>21</td>\n",
       "      <td>C</td>\n",
       "      <td>1</td>\n",
       "      <td>S</td>\n",
       "      <td>Adult</td>\n",
       "      <td>Kaya_Bang</td>\n",
       "      <td>7418.0</td>\n",
       "    </tr>\n",
       "    <tr>\n",
       "      <th>4</th>\n",
       "      <td>2301</td>\n",
       "      <td>Earth</td>\n",
       "      <td>False</td>\n",
       "      <td>TRAPPIST-1e</td>\n",
       "      <td>20.0</td>\n",
       "      <td>False</td>\n",
       "      <td>10.0</td>\n",
       "      <td>0.0</td>\n",
       "      <td>635.0</td>\n",
       "      <td>0.0</td>\n",
       "      <td>0.0</td>\n",
       "      <td>23</td>\n",
       "      <td>F</td>\n",
       "      <td>5</td>\n",
       "      <td>S</td>\n",
       "      <td>Adult</td>\n",
       "      <td>Miskin_Menengah</td>\n",
       "      <td>645.0</td>\n",
       "    </tr>\n",
       "  </tbody>\n",
       "</table>\n",
       "</div>"
      ],
      "text/plain": [
       "   PassengerId HomePlanet  CryoSleep  Destination   Age    VIP  RoomService  \\\n",
       "0         1301      Earth       True  TRAPPIST-1e  27.0  False          0.0   \n",
       "1         1801      Earth      False  TRAPPIST-1e  19.0  False          0.0   \n",
       "2         1901     Europa       True  55 Cancri e  31.0  False          0.0   \n",
       "3         2101     Europa      False  TRAPPIST-1e  38.0  False          0.0   \n",
       "4         2301      Earth      False  TRAPPIST-1e  20.0  False         10.0   \n",
       "\n",
       "   FoodCourt  ShoppingMall     Spa  VRDeck  PassenggerId_Split Deck  Number  \\\n",
       "0        0.0           0.0     0.0     0.0                  13    G       3   \n",
       "1        9.0           0.0  2823.0     0.0                  18    F       4   \n",
       "2        0.0           0.0     0.0     0.0                  19    C       0   \n",
       "3     6652.0           0.0   181.0   585.0                  21    C       1   \n",
       "4        0.0         635.0     0.0     0.0                  23    F       5   \n",
       "\n",
       "  Side Age_Group    Spending_Type  Total_Bill  \n",
       "0    S     Adult           Miskin         0.0  \n",
       "1    S     Adult         Menengah      2832.0  \n",
       "2    S     Adult           Miskin         0.0  \n",
       "3    S     Adult        Kaya_Bang      7418.0  \n",
       "4    S     Adult  Miskin_Menengah       645.0  "
      ]
     },
     "execution_count": 36,
     "metadata": {},
     "output_type": "execute_result"
    }
   ],
   "source": [
    "df_test.head(5)"
   ]
  },
  {
   "cell_type": "code",
   "execution_count": 37,
   "id": "c07d6b1c",
   "metadata": {},
   "outputs": [
    {
     "name": "stdout",
     "output_type": "stream",
     "text": [
      "<class 'pandas.core.frame.DataFrame'>\n",
      "RangeIndex: 4277 entries, 0 to 4276\n",
      "Data columns (total 18 columns):\n",
      " #   Column              Non-Null Count  Dtype   \n",
      "---  ------              --------------  -----   \n",
      " 0   PassengerId         4277 non-null   int64   \n",
      " 1   HomePlanet          4277 non-null   category\n",
      " 2   CryoSleep           4277 non-null   bool    \n",
      " 3   Destination         4277 non-null   category\n",
      " 4   Age                 4277 non-null   float64 \n",
      " 5   VIP                 4277 non-null   bool    \n",
      " 6   RoomService         4277 non-null   float64 \n",
      " 7   FoodCourt           4277 non-null   float64 \n",
      " 8   ShoppingMall        4277 non-null   float64 \n",
      " 9   Spa                 4277 non-null   float64 \n",
      " 10  VRDeck              4277 non-null   float64 \n",
      " 11  PassenggerId_Split  4277 non-null   Int64   \n",
      " 12  Deck                4277 non-null   category\n",
      " 13  Number              4277 non-null   Int64   \n",
      " 14  Side                4277 non-null   category\n",
      " 15  Age_Group           4277 non-null   category\n",
      " 16  Spending_Type       4277 non-null   category\n",
      " 17  Total_Bill          4277 non-null   float64 \n",
      "dtypes: Int64(2), bool(2), category(6), float64(7), int64(1)\n",
      "memory usage: 377.2 KB\n"
     ]
    }
   ],
   "source": [
    "df_test.info()"
   ]
  },
  {
   "cell_type": "code",
   "execution_count": 38,
   "id": "d433172b",
   "metadata": {},
   "outputs": [
    {
     "data": {
      "image/png": "[encoded data removed]",
      "text/plain": [
       "<Figure size 2160x864 with 12 Axes>"
      ]
     },
     "metadata": {
      "needs_background": "light"
     },
     "output_type": "display_data"
    }
   ],
   "source": [
    "df_test.hist(figsize=(30,12), bins=30, ec='black')\n",
    "plt.tight_layout()"
   ]
  },
  {
   "cell_type": "code",
   "execution_count": 39,
   "id": "e42b48e8",
   "metadata": {},
   "outputs": [
    {
     "data": {
      "text/plain": [
       "<AxesSubplot:>"
      ]
     },
     "execution_count": 39,
     "metadata": {},
     "output_type": "execute_result"
    },
    {
     "data": {
      "image/png": "[encoded data removed]",
      "text/plain": [
       "<Figure size 1728x1728 with 2 Axes>"
      ]
     },
     "metadata": {
      "needs_background": "light"
     },
     "output_type": "display_data"
    }
   ],
   "source": [
    "plt.figure(figsize=(24, 24))\n",
    "sns.heatmap(df_test.corr(), annot=True, vmin=0, vmax=1, cmap='plasma')"
   ]
  },
  {
   "cell_type": "code",
   "execution_count": 40,
   "id": "5dd81c43",
   "metadata": {},
   "outputs": [
    {
     "name": "stdout",
     "output_type": "stream",
     "text": [
      "<class 'pandas.core.frame.DataFrame'>\n",
      "RangeIndex: 4277 entries, 0 to 4276\n",
      "Data columns (total 18 columns):\n",
      " #   Column              Non-Null Count  Dtype   \n",
      "---  ------              --------------  -----   \n",
      " 0   PassengerId         4277 non-null   int64   \n",
      " 1   HomePlanet          4277 non-null   category\n",
      " 2   CryoSleep           4277 non-null   bool    \n",
      " 3   Destination         4277 non-null   category\n",
      " 4   Age                 4277 non-null   float64 \n",
      " 5   VIP                 4277 non-null   bool    \n",
      " 6   RoomService         4277 non-null   float64 \n",
      " 7   FoodCourt           4277 non-null   float64 \n",
      " 8   ShoppingMall        4277 non-null   float64 \n",
      " 9   Spa                 4277 non-null   float64 \n",
      " 10  VRDeck              4277 non-null   float64 \n",
      " 11  PassenggerId_Split  4277 non-null   Int64   \n",
      " 12  Deck                4277 non-null   category\n",
      " 13  Number              4277 non-null   Int64   \n",
      " 14  Side                4277 non-null   category\n",
      " 15  Age_Group           4277 non-null   category\n",
      " 16  Spending_Type       4277 non-null   category\n",
      " 17  Total_Bill          4277 non-null   float64 \n",
      "dtypes: Int64(2), bool(2), category(6), float64(7), int64(1)\n",
      "memory usage: 377.2 KB\n"
     ]
    }
   ],
   "source": [
    "df_test.info()"
   ]
  },
  {
   "cell_type": "markdown",
   "id": "febba33b",
   "metadata": {},
   "source": [
    "#### Bumi Misikin, Europa Kaya, Mars Miskin_Menengah"
   ]
  },
  {
   "cell_type": "code",
   "execution_count": 41,
   "id": "e5923bff",
   "metadata": {},
   "outputs": [
    {
     "data": {
      "text/plain": [
       "<seaborn.axisgrid.FacetGrid at 0x11671a5e190>"
      ]
     },
     "execution_count": 41,
     "metadata": {},
     "output_type": "execute_result"
    },
    {
     "data": {
      "image/png": "[encoded data removed]",
      "text/plain": [
       "<Figure size 430.875x360 with 1 Axes>"
      ]
     },
     "metadata": {
      "needs_background": "light"
     },
     "output_type": "display_data"
    }
   ],
   "source": [
    "sns.catplot(y = \"Total_Bill\", x = \"Age_Group\", hue = \"HomePlanet\", data = df_test)"
   ]
  },
  {
   "cell_type": "code",
   "execution_count": 42,
   "id": "bf83284e",
   "metadata": {},
   "outputs": [
    {
     "data": {
      "text/plain": [
       "<AxesSubplot:xlabel='count', ylabel='HomePlanet'>"
      ]
     },
     "execution_count": 42,
     "metadata": {},
     "output_type": "execute_result"
    },
    {
     "data": {
      "image/png": "[encoded data removed]",
      "text/plain": [
       "<Figure size 1440x360 with 1 Axes>"
      ]
     },
     "metadata": {
      "needs_background": "light"
     },
     "output_type": "display_data"
    }
   ],
   "source": [
    "fig, ax = plt.subplots(figsize=(20, 5)) #atur ukuran chart\n",
    "sns.countplot(ax=ax, y=\"HomePlanet\", data=df_test)"
   ]
  },
  {
   "cell_type": "code",
   "execution_count": 43,
   "id": "7390aeed",
   "metadata": {},
   "outputs": [
    {
     "data": {
      "text/plain": [
       "<AxesSubplot:xlabel='count', ylabel='Age_Group'>"
      ]
     },
     "execution_count": 43,
     "metadata": {},
     "output_type": "execute_result"
    },
    {
     "data": {
      "image/png": "[encoded data removed]",
      "text/plain": [
       "<Figure size 1440x360 with 1 Axes>"
      ]
     },
     "metadata": {
      "needs_background": "light"
     },
     "output_type": "display_data"
    }
   ],
   "source": [
    "fig, ax = plt.subplots(figsize=(20, 5)) #atur ukuran chart\n",
    "sns.countplot(ax=ax, y=\"Age_Group\",hue='HomePlanet', data=df_test)"
   ]
  },
  {
   "cell_type": "code",
   "execution_count": 44,
   "id": "c03be3c8",
   "metadata": {},
   "outputs": [
    {
     "name": "stdout",
     "output_type": "stream",
     "text": [
      "<class 'pandas.core.frame.DataFrame'>\n",
      "RangeIndex: 4277 entries, 0 to 4276\n",
      "Data columns (total 18 columns):\n",
      " #   Column              Non-Null Count  Dtype   \n",
      "---  ------              --------------  -----   \n",
      " 0   PassengerId         4277 non-null   int64   \n",
      " 1   HomePlanet          4277 non-null   category\n",
      " 2   CryoSleep           4277 non-null   bool    \n",
      " 3   Destination         4277 non-null   category\n",
      " 4   Age                 4277 non-null   float64 \n",
      " 5   VIP                 4277 non-null   bool    \n",
      " 6   RoomService         4277 non-null   float64 \n",
      " 7   FoodCourt           4277 non-null   float64 \n",
      " 8   ShoppingMall        4277 non-null   float64 \n",
      " 9   Spa                 4277 non-null   float64 \n",
      " 10  VRDeck              4277 non-null   float64 \n",
      " 11  PassenggerId_Split  4277 non-null   Int64   \n",
      " 12  Deck                4277 non-null   category\n",
      " 13  Number              4277 non-null   Int64   \n",
      " 14  Side                4277 non-null   category\n",
      " 15  Age_Group           4277 non-null   category\n",
      " 16  Spending_Type       4277 non-null   category\n",
      " 17  Total_Bill          4277 non-null   float64 \n",
      "dtypes: Int64(2), bool(2), category(6), float64(7), int64(1)\n",
      "memory usage: 377.2 KB\n"
     ]
    }
   ],
   "source": [
    "df_test.info()"
   ]
  },
  {
   "cell_type": "code",
   "execution_count": 45,
   "id": "a06a9598",
   "metadata": {},
   "outputs": [],
   "source": [
    "# fig, ax = plt.subplots(figsize=(20, 5)) #atur ukuran chart\n",
    "# sns.countplot(ax=ax, x=\"Transported\", data=df_test)"
   ]
  },
  {
   "cell_type": "code",
   "execution_count": 46,
   "id": "9dbeed61",
   "metadata": {},
   "outputs": [
    {
     "data": {
      "text/plain": [
       "<AxesSubplot:xlabel='Age_Group', ylabel='FoodCourt'>"
      ]
     },
     "execution_count": 46,
     "metadata": {},
     "output_type": "execute_result"
    },
    {
     "data": {
      "image/png": "[encoded data removed]",
      "text/plain": [
       "<Figure size 432x288 with 1 Axes>"
      ]
     },
     "metadata": {
      "needs_background": "light"
     },
     "output_type": "display_data"
    }
   ],
   "source": [
    "sns.lineplot(data=df_test, x=\"Age_Group\", y=\"FoodCourt\")"
   ]
  },
  {
   "cell_type": "code",
   "execution_count": 47,
   "id": "aff5fce2",
   "metadata": {},
   "outputs": [
    {
     "data": {
      "text/plain": [
       "['Adult', 'Child/Teen', 'Senior', 'Infant']\n",
       "Categories (4, object): ['Infant' < 'Child/Teen' < 'Adult' < 'Senior']"
      ]
     },
     "execution_count": 47,
     "metadata": {},
     "output_type": "execute_result"
    }
   ],
   "source": [
    "df_test['Age_Group'].unique()"
   ]
  },
  {
   "cell_type": "code",
   "execution_count": 48,
   "id": "e84dbb74",
   "metadata": {},
   "outputs": [
    {
     "name": "stdout",
     "output_type": "stream",
     "text": [
      "<class 'pandas.core.frame.DataFrame'>\n",
      "RangeIndex: 4277 entries, 0 to 4276\n",
      "Data columns (total 18 columns):\n",
      " #   Column              Non-Null Count  Dtype   \n",
      "---  ------              --------------  -----   \n",
      " 0   PassengerId         4277 non-null   int64   \n",
      " 1   HomePlanet          4277 non-null   category\n",
      " 2   CryoSleep           4277 non-null   bool    \n",
      " 3   Destination         4277 non-null   category\n",
      " 4   Age                 4277 non-null   float64 \n",
      " 5   VIP                 4277 non-null   bool    \n",
      " 6   RoomService         4277 non-null   float64 \n",
      " 7   FoodCourt           4277 non-null   float64 \n",
      " 8   ShoppingMall        4277 non-null   float64 \n",
      " 9   Spa                 4277 non-null   float64 \n",
      " 10  VRDeck              4277 non-null   float64 \n",
      " 11  PassenggerId_Split  4277 non-null   Int64   \n",
      " 12  Deck                4277 non-null   category\n",
      " 13  Number              4277 non-null   Int64   \n",
      " 14  Side                4277 non-null   category\n",
      " 15  Age_Group           4277 non-null   category\n",
      " 16  Spending_Type       4277 non-null   category\n",
      " 17  Total_Bill          4277 non-null   float64 \n",
      "dtypes: Int64(2), bool(2), category(6), float64(7), int64(1)\n",
      "memory usage: 377.2 KB\n"
     ]
    }
   ],
   "source": [
    "df_test.info()"
   ]
  },
  {
   "cell_type": "code",
   "execution_count": 49,
   "id": "b9646ac8",
   "metadata": {},
   "outputs": [
    {
     "data": {
      "text/plain": [
       "['Earth', 'Europa', 'Mars']\n",
       "Categories (3, object): ['Earth', 'Europa', 'Mars']"
      ]
     },
     "execution_count": 49,
     "metadata": {},
     "output_type": "execute_result"
    }
   ],
   "source": [
    "df_test['HomePlanet'].unique()"
   ]
  },
  {
   "cell_type": "code",
   "execution_count": 50,
   "id": "61749b52",
   "metadata": {},
   "outputs": [],
   "source": [
    "df_test.to_csv('C:\\\\Users\\\\raisy\\\\Downloads\\\\spaceship-titanic\\\\test_final.csv', index=False)"
   ]
  }
 ],
 "metadata": {
  "kernelspec": {
   "display_name": "Python 3 (ipykernel)",
   "language": "python",
   "name": "python3"
  },
  "language_info": {
   "codemirror_mode": {
    "name": "ipython",
    "version": 3
   },
   "file_extension": ".py",
   "mimetype": "text/x-python",
   "name": "python",
   "nbconvert_exporter": "python",
   "pygments_lexer": "ipython3",
   "version": "3.9.12"
  }
 },
 "nbformat": 4,
 "nbformat_minor": 5
}
